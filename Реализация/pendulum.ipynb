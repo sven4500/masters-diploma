{
 "cells": [
  {
   "cell_type": "markdown",
   "metadata": {},
   "source": [
    "Предсказание решения математического маятника."
   ]
  },
  {
   "cell_type": "code",
   "execution_count": null,
   "metadata": {},
   "outputs": [],
   "source": [
    "import tensorflow as tf\n",
    "import numpy as np\n",
    "import time\n",
    "import matplotlib\n",
    "from matplotlib import pyplot\n",
    "%run lstm.ipynb"
   ]
  },
  {
   "cell_type": "markdown",
   "metadata": {},
   "source": [
    "## Гиперпараметры"
   ]
  },
  {
   "cell_type": "code",
   "execution_count": null,
   "metadata": {},
   "outputs": [],
   "source": [
    "dec = 1000\n",
    "\n",
    "num_epochs = 30\n",
    "num_repeat = 1\n",
    "\n",
    "optimizer = 'adagrad'\n",
    "learn_rate = 0.5\n",
    "\n",
    "input_dim = 30\n",
    "hidden_dim = 30\n",
    "output_dim = input_dim\n",
    "\n",
    "do_svd = True\n",
    "svd_iters = 16\n",
    "svd_begin = 0.\n",
    "svd_stren = svd_begin\n",
    "svd_weaken = 0.07"
   ]
  },
  {
   "cell_type": "markdown",
   "metadata": {},
   "source": [
    "## Чтение данных"
   ]
  },
  {
   "cell_type": "code",
   "execution_count": null,
   "metadata": {},
   "outputs": [],
   "source": [
    "path = 'e:/pendulum.txt'\n",
    "data = np.genfromtxt(path)\n",
    "\n",
    "#x = data[:,0][::dec]\n",
    "y = data[:,1][::dec]\n",
    "\n",
    "matplotlib.pyplot.plot(y)"
   ]
  },
  {
   "cell_type": "markdown",
   "metadata": {},
   "source": [
    "## Подготовка данных"
   ]
  },
  {
   "cell_type": "code",
   "execution_count": null,
   "metadata": {},
   "outputs": [],
   "source": [
    "def split(data, ratio):\n",
    "    l = int(len(data) * ratio)\n",
    "    return data[:l], data[l:]"
   ]
  },
  {
   "cell_type": "code",
   "execution_count": null,
   "metadata": {},
   "outputs": [],
   "source": [
    "def shift(data, dim, step):\n",
    "    series = []\n",
    "    for i in range(0, len(data) - dim, step):\n",
    "        series += [data[i:i+dim]]\n",
    "    return series"
   ]
  },
  {
   "cell_type": "code",
   "execution_count": null,
   "metadata": {},
   "outputs": [],
   "source": [
    "y_train, y_test = split(y, 0.8)\n",
    "\n",
    "y_train_in = shift(y_train[0:], input_dim, 1)\n",
    "y_train_out = shift(y_train[1:], input_dim, 1)\n",
    "\n",
    "#matplotlib.pyplot.plot(y_train)\n",
    "#matplotlib.pyplot.plot(y_test)"
   ]
  },
  {
   "cell_type": "markdown",
   "metadata": {},
   "source": [
    "## Обучение"
   ]
  },
  {
   "cell_type": "code",
   "execution_count": null,
   "metadata": {},
   "outputs": [],
   "source": [
    "def train(lstm, data_in, data_out, num_epochs, num_repeat):\n",
    "    time_begin = time.time()\n",
    "    for e in range(num_epochs):\n",
    "        lstm.clear_state()\n",
    "        for rec_in, rec_out in zip(data_in, data_out):\n",
    "            lstm.train([rec_in], [rec_out], num_repeat)\n",
    "    return time.time() - time_begin"
   ]
  },
  {
   "cell_type": "code",
   "execution_count": null,
   "metadata": {},
   "outputs": [],
   "source": [
    "def test(lstm, begin, num_steps, take=-1):\n",
    "    points = []\n",
    "    prev = [begin]\n",
    "    for i in range(num_steps):\n",
    "        prev = lstm.test(prev)\n",
    "        points += [prev[-1][take]]\n",
    "    return points"
   ]
  },
  {
   "cell_type": "code",
   "execution_count": null,
   "metadata": {},
   "outputs": [],
   "source": [
    "sess = tf.Session()"
   ]
  },
  {
   "cell_type": "code",
   "execution_count": null,
   "metadata": {},
   "outputs": [],
   "source": [
    "lstm = lstm_cell(sess, input_dim, hidden_dim, output_dim, learn_rate, optimizer)"
   ]
  },
  {
   "cell_type": "code",
   "execution_count": null,
   "metadata": {},
   "outputs": [],
   "source": [
    "train_time = []\n",
    "svd_norm = []"
   ]
  },
  {
   "cell_type": "code",
   "execution_count": null,
   "metadata": {},
   "outputs": [],
   "source": [
    "for s in range(svd_iters):\n",
    "    train_time += [train(lstm, y_train_in, y_train_out, num_epochs, num_repeat)]\n",
    "    lstm.save_all()\n",
    "    if do_svd:\n",
    "        norm, size = lstm.svd_compress(svd_stren, svd_stren)\n",
    "        svd_norm += [norm]\n",
    "        svd_stren += svd_weaken\n",
    "    print(s, end=' ')\n",
    "lstm.restore_all()"
   ]
  },
  {
   "cell_type": "markdown",
   "metadata": {},
   "source": [
    "## Предсказание"
   ]
  },
  {
   "cell_type": "code",
   "execution_count": null,
   "metadata": {},
   "outputs": [],
   "source": [
    "lstm.restore_all()\n",
    "pred = test(lstm, y_train_in[-1], 100)"
   ]
  },
  {
   "cell_type": "code",
   "execution_count": null,
   "metadata": {},
   "outputs": [],
   "source": [
    "matplotlib.pyplot.plot(pred) # <= син\n",
    "matplotlib.pyplot.plot(y_test) # <= оранж"
   ]
  },
  {
   "cell_type": "code",
   "execution_count": null,
   "metadata": {},
   "outputs": [],
   "source": []
  }
 ],
 "metadata": {
  "kernelspec": {
   "display_name": "Python 3",
   "language": "python",
   "name": "python3"
  },
  "language_info": {
   "codemirror_mode": {
    "name": "ipython",
    "version": 3
   },
   "file_extension": ".py",
   "mimetype": "text/x-python",
   "name": "python",
   "nbconvert_exporter": "python",
   "pygments_lexer": "ipython3",
   "version": "3.7.6"
  }
 },
 "nbformat": 4,
 "nbformat_minor": 4
}
