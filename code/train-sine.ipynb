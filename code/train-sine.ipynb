{
 "cells": [
  {
   "cell_type": "code",
   "execution_count": null,
   "metadata": {},
   "outputs": [],
   "source": [
    "import tensorflow as tf\n",
    "import matplotlib\n",
    "from matplotlib import pyplot\n",
    "%run lstm.ipynb"
   ]
  },
  {
   "cell_type": "code",
   "execution_count": null,
   "metadata": {},
   "outputs": [],
   "source": [
    "def split_data(data, ratio=0.8):\n",
    "    num_samples = int(len(data) * ratio)\n",
    "    return data[:num_samples], data[num_samples:]"
   ]
  },
  {
   "cell_type": "code",
   "execution_count": null,
   "metadata": {},
   "outputs": [],
   "source": [
    "def shift(seq, seq_size, step=1):\n",
    "    x, y = [], []\n",
    "    for i in np.arange(0, len(seq) - seq_size - step + 1, step):\n",
    "        xc = seq[i:i+seq_size]\n",
    "        yc = seq[i+step:i+seq_size+step]\n",
    "        x.append(xc)\n",
    "        y.append(yc)\n",
    "    return x, y"
   ]
  },
  {
   "cell_type": "code",
   "execution_count": null,
   "metadata": {},
   "outputs": [],
   "source": [
    "seq = np.sin(np.linspace(0., 12. * np.pi, 200))\n",
    "#matplotlib.pyplot.plot(seq)"
   ]
  },
  {
   "cell_type": "code",
   "execution_count": null,
   "metadata": {},
   "outputs": [],
   "source": [
    "seq_train, seq_test = split_data(seq, 0.5)\n",
    "matplotlib.pyplot.plot(np.arange(0., len(seq_train), 1.), seq_train)\n",
    "matplotlib.pyplot.plot(np.arange(len(seq_train), len(seq_train) + len(seq_test), 1.), seq_test)\n",
    "#matplotlib.pyplot.plot(np.linspace(len(x_train), len(x_train) + len(x_test), len(x_test)), x_test)"
   ]
  },
  {
   "cell_type": "code",
   "execution_count": null,
   "metadata": {},
   "outputs": [],
   "source": [
    "mini_seq_size = 5\n",
    "x_train, y_train = shift(seq_train, mini_seq_size, step=1)"
   ]
  },
  {
   "cell_type": "code",
   "execution_count": null,
   "metadata": {},
   "outputs": [],
   "source": [
    "sess = tf.Session()\n",
    "net = lstm_cell(sess, mini_seq_size, 0.4)"
   ]
  },
  {
   "cell_type": "code",
   "execution_count": null,
   "metadata": {},
   "outputs": [],
   "source": [
    "for e in range(80):\n",
    "    for x, y in zip(x_train, y_train):\n",
    "        net.train([x], [y], repeat=40)"
   ]
  },
  {
   "cell_type": "code",
   "execution_count": null,
   "metadata": {},
   "outputs": [],
   "source": [
    "seq_prev = [y_train[-1]]\n",
    "#seq_prev = [x_train[-1]]\n",
    "seq_pred = []\n",
    "\n",
    "for i in range(len(seq_test)):\n",
    "    seq_prev = net.test(seq_prev)\n",
    "    seq_pred.append(seq_prev[0])"
   ]
  },
  {
   "cell_type": "code",
   "execution_count": null,
   "metadata": {},
   "outputs": [],
   "source": [
    "seq_points = []\n",
    "\n",
    "for i in seq_pred:\n",
    "    seq_points.append(i[-1])"
   ]
  },
  {
   "cell_type": "code",
   "execution_count": null,
   "metadata": {},
   "outputs": [],
   "source": [
    "matplotlib.pyplot.plot(seq_test, 'orange')\n",
    "matplotlib.pyplot.plot(seq_points, 'teal')"
   ]
  },
  {
   "cell_type": "code",
   "execution_count": null,
   "metadata": {},
   "outputs": [],
   "source": []
  }
 ],
 "metadata": {
  "kernelspec": {
   "display_name": "Python 3",
   "language": "python",
   "name": "python3"
  },
  "language_info": {
   "codemirror_mode": {
    "name": "ipython",
    "version": 3
   },
   "file_extension": ".py",
   "mimetype": "text/x-python",
   "name": "python",
   "nbconvert_exporter": "python",
   "pygments_lexer": "ipython3",
   "version": "3.7.6"
  }
 },
 "nbformat": 4,
 "nbformat_minor": 4
}
