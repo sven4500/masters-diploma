{
 "cells": [
  {
   "cell_type": "markdown",
   "metadata": {},
   "source": [
    "В данном примере происходит обучение нейросети LSTM типа на последовательноси синуса."
   ]
  },
  {
   "cell_type": "code",
   "execution_count": null,
   "metadata": {},
   "outputs": [],
   "source": [
    "import tensorflow as tf\n",
    "import time\n",
    "import matplotlib\n",
    "from matplotlib import pyplot\n",
    "%run lstm.ipynb"
   ]
  },
  {
   "cell_type": "markdown",
   "metadata": {},
   "source": [
    "## Гиперпараметры"
   ]
  },
  {
   "cell_type": "code",
   "execution_count": null,
   "metadata": {},
   "outputs": [],
   "source": [
    "num_epochs = 25\n",
    "num_repeat = 2\n",
    "input_dim = 5\n",
    "hidden_dim = 5\n",
    "output_dim = input_dim\n",
    "learn_rate = 0.5\n",
    "pruning_iters = 20\n",
    "train_to_test_ratio = 0.7\n",
    "pruning_strength = 0.95 # <= меньше сильнее\n",
    "optimizer = 'adagrad'\n",
    "\n",
    "data_sequence = 'ascending-sine' # <= sine, ascending-sine\n",
    "do_normalize = True\n",
    "do_pruning = False # <= производить SVD разложение матриц весов"
   ]
  },
  {
   "cell_type": "markdown",
   "metadata": {},
   "source": [
    "## Подготовка данных"
   ]
  },
  {
   "cell_type": "code",
   "execution_count": null,
   "metadata": {},
   "outputs": [],
   "source": [
    "def split_data(data, ratio):\n",
    "    num_samples = int(len(data) * ratio)\n",
    "    return data[:num_samples], data[num_samples:]"
   ]
  },
  {
   "cell_type": "code",
   "execution_count": null,
   "metadata": {},
   "outputs": [],
   "source": [
    "def shift(seq, seq_size, step=1):\n",
    "    x, y = [], []\n",
    "    for i in np.arange(0, len(seq) - seq_size - step + 1, step):\n",
    "        xc = seq[i:i+seq_size]\n",
    "        yc = seq[i+step:i+seq_size+step]\n",
    "        x.append(xc)\n",
    "        y.append(yc)\n",
    "    return x, y"
   ]
  },
  {
   "cell_type": "code",
   "execution_count": null,
   "metadata": {},
   "outputs": [],
   "source": [
    "x = np.linspace(0., 20. * np.pi, 200)\n",
    "\n",
    "# Здесь работает переключение способа генерации данных для обработки.\n",
    "if data_sequence == 'sine':\n",
    "    seq = np.sin(x)\n",
    "elif data_sequence == 'ascending-sine':\n",
    "    seq =  np.sin(x) + 0.1 * x + 0.5\n",
    "\n",
    "if do_normalize == True:\n",
    "    seq_max = np.amax(seq)\n",
    "    seq /= seq_max\n",
    "    \n",
    "seq_train, seq_test = split_data(seq, train_to_test_ratio)\n",
    "x_train, y_train = shift(seq_train, input_dim, step=1)\n",
    "\n",
    "matplotlib.pyplot.plot(np.arange(0., len(seq_train), 1.), seq_train)\n",
    "matplotlib.pyplot.plot(np.arange(len(seq_train), len(seq_train) + len(seq_test), 1.), seq_test)\n",
    "#matplotlib.pyplot.plot(np.linspace(len(x_train), len(x_train) + len(x_test), len(x_test)), x_test)"
   ]
  },
  {
   "cell_type": "markdown",
   "metadata": {},
   "source": [
    "## Обучение"
   ]
  },
  {
   "cell_type": "code",
   "execution_count": null,
   "metadata": {},
   "outputs": [],
   "source": [
    "def train(net, x_train, y_train):\n",
    "    \n",
    "    begin = time.time()\n",
    "\n",
    "    for e in range(num_epochs):\n",
    "        net.clear_state()\n",
    "        for x, y in zip(x_train, y_train):\n",
    "            net.train([x], [y], repeat=num_repeat)\n",
    "\n",
    "    return time.time() - begin"
   ]
  },
  {
   "cell_type": "code",
   "execution_count": null,
   "metadata": {},
   "outputs": [],
   "source": [
    "# Функция производит предсказание последовательности на указанное количество шагов length.\n",
    "# За актуальностью внутреннего состояния LSTM до и после вызова следит вызывающий методв.\n",
    "def predict(net, start, length):\n",
    "    \n",
    "    seq_prev = [start]\n",
    "    seq_points = []\n",
    "\n",
    "    for i in range(length):\n",
    "        seq_prev = net.test(seq_prev)\n",
    "        seq_points.append(seq_prev[:,-1])\n",
    "        \n",
    "    return seq_points"
   ]
  },
  {
   "cell_type": "code",
   "execution_count": null,
   "metadata": {},
   "outputs": [],
   "source": [
    "# Сзедняя абсолютная ошибка.\n",
    "def mae(a, b):\n",
    "    length = len(a)\n",
    "    assert length == len(b)\n",
    "    return np.sum(np.abs(a - b)) / length"
   ]
  },
  {
   "cell_type": "code",
   "execution_count": null,
   "metadata": {},
   "outputs": [],
   "source": [
    "# Средняя квадратическая ошибка.\n",
    "def mse(a, b):\n",
    "    length = len(a)\n",
    "    assert length == len(b)\n",
    "    return np.sum(np.square(a - b)) / length"
   ]
  },
  {
   "cell_type": "code",
   "execution_count": null,
   "metadata": {},
   "outputs": [],
   "source": [
    "sess = tf.Session()\n",
    "net = lstm_cell(sess, input_dim, hidden_dim, output_dim, learn_rate, optimizer)"
   ]
  },
  {
   "cell_type": "code",
   "execution_count": null,
   "metadata": {},
   "outputs": [],
   "source": [
    "# Различные интересные зависимости.\n",
    "c_mae = []\n",
    "c_mse = []\n",
    "c_norm = []\n",
    "c_train_time = []"
   ]
  },
  {
   "cell_type": "code",
   "execution_count": null,
   "metadata": {
    "scrolled": true
   },
   "outputs": [],
   "source": [
    "for i in range(pruning_iters):\n",
    "    \n",
    "    train_time = train(net, x_train, y_train)\n",
    "    net.save_all()\n",
    "    \n",
    "    #seq_points = predict(net, x_train[-1], len(seq_test))\n",
    "    seq_points = predict(net, y_train[-1], len(seq_test))\n",
    "    net.restore_all()\n",
    "    \n",
    "    if do_pruning == True:\n",
    "        norm, _ = net.svd_compress(pruning_strength, pruning_strength)\n",
    "        c_norm.append(norm)\n",
    "        \n",
    "    c_train_time.append(train_time)\n",
    "    c_mae.append(mae(seq_points, seq_test))\n",
    "    c_mse.append(mse(seq_points, seq_test))\n",
    "    \n",
    "    print(i, 'train_time', c_train_time[-1], 'norm', c_norm[-1] if c_norm else 0., 'mae', c_mae[-1], 'mse', c_mse[-1])\n",
    "\n",
    "    if i > 2 and c_mae[-1] >= c_mae[-2]:\n",
    "        print('Насыщение')\n",
    "        break\n",
    "\n",
    "    pass\n",
    "\n",
    "# Так как на выходе на последней итерации производится SVD разложение, то нужно восстановить состояние LSTM.\n",
    "net.restore_all()"
   ]
  },
  {
   "cell_type": "markdown",
   "metadata": {},
   "source": [
    "## Предсказание"
   ]
  },
  {
   "cell_type": "code",
   "execution_count": null,
   "metadata": {},
   "outputs": [],
   "source": [
    "net.restore_all()\n",
    "seq_points = predict(net, y_train[-1], len(seq_test))\n",
    "\n",
    "# Вывод графиков + статистика SVD\n",
    "if False:\n",
    "    \n",
    "    fig, ax = matplotlib.pyplot.subplots(2, 3, figsize=(10, 5))\n",
    "\n",
    "    ax[0,0].set_title('Обучение, сек.')\n",
    "    ax[0,0].plot(c_train_time)\n",
    "\n",
    "    ax[0,1].set_title('Норма SVD')\n",
    "    ax[0,1].plot(c_norm)\n",
    "\n",
    "    ax[1,0].set_title('MAE')\n",
    "    ax[1,0].plot(c_mae)\n",
    "\n",
    "    ax[1,1].set_title('MSE')\n",
    "    ax[1,1].plot(c_mse)\n",
    "\n",
    "    ax[0,2].set_title('Предсказание')\n",
    "    ax[0,2].plot(seq_test, 'orange')\n",
    "    ax[0,2].plot(seq_points, '--')\n",
    "\n",
    "    # https://matplotlib.org/3.1.1/gallery/subplots_axes_and_figures/gridspec_and_subplots.html\n",
    "    ax[1,2].remove()\n",
    "    #ax[0,2].set_position([1.-0.3, 0.5-0.15, 0.3, 0.3])\n",
    "\n",
    "# Графики без статистики SVD\n",
    "elif False:\n",
    "    \n",
    "    fig, ax = matplotlib.pyplot.subplots(2, 2, figsize=(10, 5))\n",
    "\n",
    "    ax[0,0].set_title('MAE')\n",
    "    ax[0,0].plot(c_mae)\n",
    "\n",
    "    ax[0,1].set_title('MSE')\n",
    "    ax[0,1].plot(c_mse)\n",
    "    \n",
    "    ax[1,0].set_title('Обучение, сек.')\n",
    "    ax[1,0].plot(c_train_time)\n",
    "\n",
    "    ax[1,1].set_title('Предсказание')\n",
    "    ax[1,1].plot(seq_test, 'orange')\n",
    "    ax[1,1].plot(seq_points, '--')\n",
    "\n",
    "# Только предсказание.\n",
    "elif True:\n",
    "    \n",
    "    matplotlib.pyplot.plot(seq_test, 'orange')\n",
    "    matplotlib.pyplot.plot(seq_points, '--')\n",
    "\n",
    "# Отображаем статистику обучения.\n",
    "print('optimizer', optimizer)\n",
    "print('learn_rate', learn_rate)\n",
    "print('train_time', np.sum(c_train_time))\n",
    "print('pruning_iters', pruning_iters)\n",
    "print('num_epochs', num_epochs)\n",
    "print('num_repeat', num_repeat)\n",
    "print('input_dim', input_dim)\n",
    "print('hidden_dim', hidden_dim)\n",
    "print('output_dim', output_dim)\n",
    "print('do_normalize', do_normalize)\n",
    "print('do_pruning', do_pruning)\n",
    "print('MAE', c_mae[-1])\n",
    "print('MSE', c_mse[-1])"
   ]
  },
  {
   "cell_type": "code",
   "execution_count": null,
   "metadata": {},
   "outputs": [],
   "source": []
  }
 ],
 "metadata": {
  "kernelspec": {
   "display_name": "Python 3",
   "language": "python",
   "name": "python3"
  },
  "language_info": {
   "codemirror_mode": {
    "name": "ipython",
    "version": 3
   },
   "file_extension": ".py",
   "mimetype": "text/x-python",
   "name": "python",
   "nbconvert_exporter": "python",
   "pygments_lexer": "ipython3",
   "version": "3.7.6"
  }
 },
 "nbformat": 4,
 "nbformat_minor": 4
}
