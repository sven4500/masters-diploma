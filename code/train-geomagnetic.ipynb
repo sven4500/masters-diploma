{
 "cells": [
  {
   "cell_type": "code",
   "execution_count": null,
   "metadata": {},
   "outputs": [],
   "source": [
    "import tensorflow as tf\n",
    "import numpy as np\n",
    "import matplotlib\n",
    "import time\n",
    "from matplotlib import pyplot\n",
    "%run lstm.ipynb"
   ]
  },
  {
   "cell_type": "markdown",
   "metadata": {},
   "source": [
    "## Гиперпараметры"
   ]
  },
  {
   "cell_type": "code",
   "execution_count": null,
   "metadata": {},
   "outputs": [],
   "source": [
    "decimation = 30\n",
    "\n",
    "num_epochs = 150\n",
    "num_repeat = 1\n",
    "\n",
    "years = 1.5 # <- окно обучения 7.5 лет\n",
    "output_dim = int(years * 365 / decimation)\n",
    "input_dim = int(output_dim)\n",
    "hidden_dim = int(input_dim * 1.5)\n",
    "\n",
    "learn_rate = 0.5\n",
    "optimizer = 'adagrad'\n",
    "normalize = True\n",
    "\n",
    "print(input_dim, hidden_dim, output_dim)"
   ]
  },
  {
   "cell_type": "markdown",
   "metadata": {},
   "source": [
    "## Чтение данных\n",
    "Пример чтения данных из таблицы в которой колонки разделены пробелами:\n",
    "https://stackoverflow.com/questions/43058462/reading-a-variable-white-space-delimited-table-in-python"
   ]
  },
  {
   "cell_type": "code",
   "execution_count": null,
   "metadata": {},
   "outputs": [],
   "source": [
    "path = 'e:/geomagnetic.txt'\n",
    "data = np.genfromtxt(path)"
   ]
  },
  {
   "cell_type": "markdown",
   "metadata": {},
   "source": [
    "Как объединить два массива с чередованием:\n",
    "https://stackoverflow.com/questions/3678869/pythonic-way-to-combine-two-lists-in-an-alternating-fashion"
   ]
  },
  {
   "cell_type": "code",
   "execution_count": null,
   "metadata": {},
   "outputs": [],
   "source": [
    "# Децимируем данные в 8 раз иначе очень долгое врем яобучения.\n",
    "x = data[:,3][::decimation]\n",
    "y = data[:,5][::decimation]\n",
    "\n",
    "if normalize == True:\n",
    "    m = max(np.amax(x), np.amax(y))\n",
    "    x /= m\n",
    "    y /= m\n",
    "\n",
    "matplotlib.pyplot.plot(x)\n",
    "matplotlib.pyplot.plot(y)"
   ]
  },
  {
   "cell_type": "code",
   "execution_count": null,
   "metadata": {},
   "outputs": [],
   "source": [
    "# Объединение с чередованием наборов точек x и y.\n",
    "z = np.zeros(len(x) + len(y))\n",
    "z[0::2] = x\n",
    "z[1::2] = y\n",
    "\n",
    "#matplotlib.pyplot.xlim(right=100)\n",
    "matplotlib.pyplot.plot(z)"
   ]
  },
  {
   "cell_type": "markdown",
   "metadata": {},
   "source": [
    "## Подготовка данных для обучения"
   ]
  },
  {
   "cell_type": "code",
   "execution_count": null,
   "metadata": {},
   "outputs": [],
   "source": [
    "def split(data, ratio):\n",
    "    samples = int(len(data) * ratio)\n",
    "    return data[:samples], data[samples:]"
   ]
  },
  {
   "cell_type": "code",
   "execution_count": null,
   "metadata": {},
   "outputs": [],
   "source": [
    "def shift(data, dim):\n",
    "    seq = []\n",
    "    for i in range(len(data) - dim):\n",
    "        seq.append(data[i:i+dim])\n",
    "    return seq"
   ]
  },
  {
   "cell_type": "code",
   "execution_count": null,
   "metadata": {},
   "outputs": [],
   "source": [
    "x_train, x_test = split(x, 0.8)\n",
    "y_train, y_test = split(y, 0.8)\n",
    "z_train, z_test = split(z, 0.8)\n",
    "\n",
    "#x_train_in = y_train_in = shift(z_train, input_dim)\n",
    "x_train_in = shift(x_train[0:], input_dim)\n",
    "y_train_in = shift(y_train[0:], input_dim)\n",
    "\n",
    "x_train_out = shift(x_train[1:], output_dim)\n",
    "y_train_out = shift(y_train[1:], output_dim)\n",
    "\n",
    "#assert len(x_input_train) == len(x_output_train)\n",
    "#assert len(x_input_train) == len(y_output_train)\n",
    "\n",
    "#print(len(x_input_train), len(x_output_train), len(y_input_train), len(y_output_train))"
   ]
  },
  {
   "cell_type": "code",
   "execution_count": null,
   "metadata": {},
   "outputs": [],
   "source": [
    "# Проверка.\n",
    "matplotlib.pyplot.xlim(right=80)\n",
    "matplotlib.pyplot.plot(y_train)\n",
    "matplotlib.pyplot.plot([y[1] for y in y_train_in])\n",
    "matplotlib.pyplot.plot([y[1] for y in y_train_out])"
   ]
  },
  {
   "cell_type": "markdown",
   "metadata": {},
   "source": [
    "## Обучение"
   ]
  },
  {
   "cell_type": "code",
   "execution_count": null,
   "metadata": {},
   "outputs": [],
   "source": [
    "sess = tf.Session()\n",
    "net_x = lstm_cell(sess, input_dim, hidden_dim, output_dim, learn_rate, optimizer)\n",
    "net_y = lstm_cell(sess, input_dim, hidden_dim, output_dim, learn_rate, optimizer)"
   ]
  },
  {
   "cell_type": "code",
   "execution_count": null,
   "metadata": {},
   "outputs": [],
   "source": [
    "begin = time.time()\n",
    "\n",
    "for e in range(num_epochs):\n",
    "\n",
    "    net_x.clear_state()\n",
    "    net_y.clear_state()\n",
    "\n",
    "    for x_in, x_out, y_in, y_out in zip(x_train_in, x_train_out, y_train_in, y_train_out):\n",
    "        \n",
    "        net_x.train([x_in], [x_out], num_repeat)\n",
    "        net_y.train([y_in], [y_out], num_repeat)\n",
    "\n",
    "    print(e, end=' ')\n",
    "\n",
    "time_train = time.time() - begin\n",
    "print(time_train)\n",
    "\n",
    "net_x.save_all()\n",
    "net_y.save_all()"
   ]
  },
  {
   "cell_type": "markdown",
   "metadata": {},
   "source": [
    "## Предсказание"
   ]
  },
  {
   "cell_type": "code",
   "execution_count": null,
   "metadata": {},
   "outputs": [],
   "source": [
    "#prev_seq = [x_output_train[-1]]\n",
    "#prev_seq = np.zeros(input_dim)\n",
    "#prev_seq[0::2] = x_output_train[-1]\n",
    "#prev_seq[1::2] = y_output_train[-1]\n",
    "\n",
    "x_prev = x_train_out[-1]\n",
    "y_prev = y_train_out[-1]\n",
    "\n",
    "x_pred = []\n",
    "y_pred = []\n",
    "\n",
    "net_x.restore_all()\n",
    "net_y.restore_all()\n",
    "\n",
    "for i in range(len(x_test)):\n",
    "\n",
    "    x_out = net_x.test([x_prev])\n",
    "    y_out = net_y.test([y_prev])\n",
    "\n",
    "    x_prev = x_out[-1]\n",
    "    y_prev = y_out[-1]\n",
    "\n",
    "    #prev_seq[0::2] = x_out\n",
    "    #prev_seq[1::2] = y_out\n",
    "\n",
    "    x_pred.append(x_out[:,-1])\n",
    "    y_pred.append(y_out[:,-1])\n",
    "    \n",
    "net_x.restore_all()\n",
    "net_y.restore_all()"
   ]
  },
  {
   "cell_type": "code",
   "execution_count": null,
   "metadata": {},
   "outputs": [],
   "source": [
    "fig, ax = matplotlib.pyplot.subplots(2, 1)\n",
    "\n",
    "ax[0].plot(x_test)\n",
    "ax[0].plot(x_pred, '--')\n",
    "\n",
    "ax[1].plot(y_test)\n",
    "ax[1].plot(y_pred, '--')"
   ]
  },
  {
   "cell_type": "markdown",
   "metadata": {},
   "source": [
    "## SVD разложение"
   ]
  },
  {
   "cell_type": "code",
   "execution_count": null,
   "metadata": {},
   "outputs": [],
   "source": [
    "net_x.restore_all()\n",
    "n_x, _ = net_x.svd_compress(0.9, 0.9)\n",
    "\n",
    "net_y.restore_all()\n",
    "n_y, _ = net_y.svd_compress(0.9, 0.9)\n",
    "\n",
    "print(n_x, n_y)"
   ]
  },
  {
   "cell_type": "code",
   "execution_count": null,
   "metadata": {},
   "outputs": [],
   "source": [
    "net_x.restore_all()\n",
    "net_y.restore_all()"
   ]
  },
  {
   "cell_type": "code",
   "execution_count": null,
   "metadata": {},
   "outputs": [],
   "source": []
  }
 ],
 "metadata": {
  "kernelspec": {
   "display_name": "Python 3",
   "language": "python",
   "name": "python3"
  },
  "language_info": {
   "codemirror_mode": {
    "name": "ipython",
    "version": 3
   },
   "file_extension": ".py",
   "mimetype": "text/x-python",
   "name": "python",
   "nbconvert_exporter": "python",
   "pygments_lexer": "ipython3",
   "version": "3.7.6"
  }
 },
 "nbformat": 4,
 "nbformat_minor": 4
}
