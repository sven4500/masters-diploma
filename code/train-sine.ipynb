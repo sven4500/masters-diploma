{
 "cells": [
  {
   "cell_type": "code",
   "execution_count": null,
   "metadata": {},
   "outputs": [],
   "source": [
    "import tensorflow as tf\n",
    "import time\n",
    "import matplotlib\n",
    "from matplotlib import pyplot\n",
    "%run lstm.ipynb"
   ]
  },
  {
   "cell_type": "code",
   "execution_count": null,
   "metadata": {},
   "outputs": [],
   "source": [
    "# Гиперпараметры.\n",
    "num_epochs = 30\n",
    "num_repeat = 15\n",
    "input_dim = 5\n",
    "hidden_dim = 7\n",
    "learn_rate = 0.5\n",
    "pruning_iters = 20\n",
    "pruning_strength = 0.5\n",
    "optimizer = 'adagrad'\n",
    "\n",
    "# sine, ascending-sine\n",
    "data_sequence = 'sine'\n",
    "normalize = True"
   ]
  },
  {
   "cell_type": "code",
   "execution_count": null,
   "metadata": {},
   "outputs": [],
   "source": [
    "def split_data(data, ratio):\n",
    "    num_samples = int(len(data) * ratio)\n",
    "    return data[:num_samples], data[num_samples:]"
   ]
  },
  {
   "cell_type": "code",
   "execution_count": null,
   "metadata": {},
   "outputs": [],
   "source": [
    "def shift(seq, seq_size, step=1):\n",
    "    x, y = [], []\n",
    "    for i in np.arange(0, len(seq) - seq_size - step + 1, step):\n",
    "        xc = seq[i:i+seq_size]\n",
    "        yc = seq[i+step:i+seq_size+step]\n",
    "        x.append(xc)\n",
    "        y.append(yc)\n",
    "    return x, y"
   ]
  },
  {
   "cell_type": "code",
   "execution_count": null,
   "metadata": {},
   "outputs": [],
   "source": [
    "def train(net, x_train, y_train):\n",
    "    begin = time.time()\n",
    "\n",
    "    for e in range(num_epochs):\n",
    "        net.clear_state()\n",
    "        for x, y in zip(x_train, y_train):\n",
    "            net.train([x], [y], repeat=num_repeat)\n",
    "\n",
    "    return time.time() - begin"
   ]
  },
  {
   "cell_type": "code",
   "execution_count": null,
   "metadata": {},
   "outputs": [],
   "source": [
    "def predict(net, start, length):\n",
    "    seq_prev = [start]\n",
    "    seq_pred = []\n",
    "\n",
    "    for i in range(length):\n",
    "        seq_prev = net.test(seq_prev)\n",
    "        seq_pred.append(seq_prev[0])\n",
    "\n",
    "    # Выделяем из предсказанной последовательности нужную нам точку.\n",
    "    seq_points = []\n",
    "    \n",
    "    for i in seq_pred:\n",
    "        seq_points.append(i[-1])\n",
    "        \n",
    "    return seq_points"
   ]
  },
  {
   "cell_type": "code",
   "execution_count": null,
   "metadata": {},
   "outputs": [],
   "source": [
    "x = np.linspace(0., 20. * np.pi, 200)\n",
    "\n",
    "# Здесь работает переключение способа генерации данных для обработки.\n",
    "if data_sequence == 'sine':\n",
    "    seq = np.sin(x)\n",
    "elif data_sequence == 'ascending-sine':\n",
    "    seq =  np.sin(x) + 0.1 * x + 0.5\n",
    "\n",
    "if normalize == True:\n",
    "    seq_max = np.amax(seq)\n",
    "    seq /= seq_max"
   ]
  },
  {
   "cell_type": "code",
   "execution_count": null,
   "metadata": {},
   "outputs": [],
   "source": [
    "seq_train, seq_test = split_data(seq, 0.3)\n",
    "x_train, y_train = shift(seq_train, input_dim, step=1)\n",
    "\n",
    "matplotlib.pyplot.plot(np.arange(0., len(seq_train), 1.), seq_train)\n",
    "matplotlib.pyplot.plot(np.arange(len(seq_train), len(seq_train) + len(seq_test), 1.), seq_test)\n",
    "#matplotlib.pyplot.plot(np.linspace(len(x_train), len(x_train) + len(x_test), len(x_test)), x_test)"
   ]
  },
  {
   "cell_type": "code",
   "execution_count": null,
   "metadata": {},
   "outputs": [],
   "source": [
    "sess = tf.Session()\n",
    "net = lstm_cell(sess, input_dim, hidden_dim, learn_rate, optimizer)"
   ]
  },
  {
   "cell_type": "code",
   "execution_count": null,
   "metadata": {},
   "outputs": [],
   "source": [
    "# Различные интересные зависимости.\n",
    "c_mae = []\n",
    "c_mse = []\n",
    "c_norm = []\n",
    "c_train_time = []"
   ]
  },
  {
   "cell_type": "code",
   "execution_count": null,
   "metadata": {
    "scrolled": true
   },
   "outputs": [],
   "source": [
    "for i in range(pruning_iters):\n",
    "    \n",
    "    # Обучение ячейки на последовательности.\n",
    "    train_time = train(net, x_train, y_train)\n",
    "\n",
    "    # Сохранить состояние сети.\n",
    "    net.save_all()\n",
    "\n",
    "    # Предсказание.\n",
    "    #seq_points = predict(net, x_train[-1], len(seq_test))\n",
    "    seq_points = predict(net, y_train[-1], len(seq_test))\n",
    "\n",
    "    # Считаем ошибки предсказания.\n",
    "    mae = np.sum(np.abs(seq_points - seq_test)) / len(seq_points)\n",
    "    mse = np.sum(np.square(seq_points - seq_test)) / len(seq_points)\n",
    "    \n",
    "    if i > 2 and mae >= c_mae[-1]:\n",
    "        print('SATURATION!')\n",
    "        break\n",
    "\n",
    "    # После того как последовательность была предсказана стоит восстановить состояние ячейки.\n",
    "    net.restore_all()\n",
    "    \n",
    "    # Делаем прореживание. Сохраняем значение насколько матрицы сохраняют своё схожесть\n",
    "    # после прореживания с исходными матрицами.\n",
    "    norm, _ = net.svd_compress(pruning_strength, pruning_strength)\n",
    "    \n",
    "    c_mae.append(mae)\n",
    "    c_mse.append(mse)\n",
    "    c_norm.append(norm)\n",
    "    c_train_time.append(train_time)\n",
    "    \n",
    "    print('iter', i, 'train_time', train_time, 'norm', norm, 'mae', mae, 'mse', mse)\n",
    "    \n",
    "net.restore_all()"
   ]
  },
  {
   "cell_type": "markdown",
   "metadata": {},
   "source": [
    "https://matplotlib.org/devdocs/gallery/subplots_axes_and_figures/subplots_demo.html"
   ]
  },
  {
   "cell_type": "code",
   "execution_count": null,
   "metadata": {},
   "outputs": [],
   "source": [
    "fig, ax = matplotlib.pyplot.subplots(2, 2)\n",
    "\n",
    "ax[0,0].set_title('Время обучения, с.')\n",
    "ax[0,0].plot(c_train_time)\n",
    "\n",
    "ax[0,1].set_title('Норма SVD разложения')\n",
    "ax[0,1].plot(c_norm)\n",
    "\n",
    "ax[1,0].set_title('MAE')\n",
    "ax[1,0].plot(c_mae)\n",
    "\n",
    "ax[1,1].set_title('MSE')\n",
    "ax[1,1].plot(c_mse)"
   ]
  },
  {
   "cell_type": "code",
   "execution_count": null,
   "metadata": {},
   "outputs": [],
   "source": [
    "fig, ax = matplotlib.pyplot.subplots(2, 2)\n",
    "\n",
    "ax[0,0].set_title('Ft Wx')\n",
    "#ax[0,0].spy(net.sess.run(net.ft_wx))\n",
    "ax[0,0].matshow(net.sess.run(net.ft_wx))\n",
    "\n",
    "ax[0,1].set_title('It Wx')\n",
    "ax[0,1].matshow(net.sess.run(net.it_wx))\n",
    "\n",
    "ax[1,0].set_title('Ctt Wx')\n",
    "ax[1,0].matshow(net.sess.run(net.ctt_wx))\n",
    "\n",
    "ax[1,1].set_title('Ot Wx')\n",
    "ax[1,1].matshow(net.sess.run(net.ot_wx))"
   ]
  },
  {
   "cell_type": "code",
   "execution_count": null,
   "metadata": {},
   "outputs": [],
   "source": [
    "seq_points = predict(net, y_train[-1], len(seq_test))\n",
    "net.restore_all()"
   ]
  },
  {
   "cell_type": "code",
   "execution_count": null,
   "metadata": {},
   "outputs": [],
   "source": [
    "# Отображаем график.\n",
    "matplotlib.pyplot.plot(seq_test, 'orange')\n",
    "#matplotlib.pyplot.plot(seq_points)\n",
    "matplotlib.pyplot.plot(seq_points, '--')\n",
    "\n",
    "# Отображаем статистику обучения.\n",
    "print('optimizer', optimizer)\n",
    "print('learn_rate', learn_rate)\n",
    "print('train_time', train_time)\n",
    "print('num_epochs', num_epochs)\n",
    "print('num_repeat', num_repeat)\n",
    "print('input_dim', input_dim)\n",
    "print('hidden_dim', hidden_dim)\n",
    "print('MAE', c_mae[-1])\n",
    "print('MSE', c_mse[-1])"
   ]
  },
  {
   "cell_type": "code",
   "execution_count": null,
   "metadata": {},
   "outputs": [],
   "source": []
  }
 ],
 "metadata": {
  "kernelspec": {
   "display_name": "Python 3",
   "language": "python",
   "name": "python3"
  },
  "language_info": {
   "codemirror_mode": {
    "name": "ipython",
    "version": 3
   },
   "file_extension": ".py",
   "mimetype": "text/x-python",
   "name": "python",
   "nbconvert_exporter": "python",
   "pygments_lexer": "ipython3",
   "version": "3.7.6"
  }
 },
 "nbformat": 4,
 "nbformat_minor": 4
}
