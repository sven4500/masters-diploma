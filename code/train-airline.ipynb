{
 "cells": [
  {
   "cell_type": "code",
   "execution_count": null,
   "metadata": {},
   "outputs": [],
   "source": [
    "import numpy as np\n",
    "import matplotlib\n",
    "import csv\n",
    "from matplotlib import pyplot\n",
    "%run lstm.ipynb"
   ]
  },
  {
   "cell_type": "code",
   "execution_count": null,
   "metadata": {},
   "outputs": [],
   "source": [
    "# Функция вычитывает заданный столбец CSV файла.\n",
    "def read_csv_column(filename, col_id):\n",
    "    file = open(filename)\n",
    "    reader = csv.reader(file)\n",
    "    data = [float(row[col_id]) for row in reader]\n",
    "    file.close()\n",
    "    return data"
   ]
  },
  {
   "cell_type": "code",
   "execution_count": null,
   "metadata": {},
   "outputs": [],
   "source": [
    "# Функция реализует разбиение данных на два набора в указанных пропорциях.\n",
    "def split_data(data, ratio=0.8):\n",
    "    num_samples = int(len(data) * ratio)\n",
    "    return data[:num_samples], data[num_samples:]"
   ]
  },
  {
   "cell_type": "code",
   "execution_count": null,
   "metadata": {},
   "outputs": [],
   "source": [
    "# Открываем CSV файл и считываем третью колонку - там лежат нужные нам данные.\n",
    "filename = 'e:\\international-airline-passengers-monthly-totals-inthousands-jan-49-dec-60.csv'\n",
    "data = read_csv_column(filename, 2)\n",
    "train_data, test_data = split_data(data, ratio=0.8)\n",
    "\n",
    "# Нормализуем данные\n",
    "data_max = np.amax(data)\n",
    "train_data /= data_max\n",
    "test_data /= data_max\n",
    "\n",
    "# Рисуем на одном грпфике часть обучения и часть для тестов.\n",
    "matplotlib.pyplot.plot(np.arange(0, len(train_data), 1), train_data)\n",
    "matplotlib.pyplot.plot(np.arange(0, len(test_data), 1) + len(train_data), test_data)"
   ]
  },
  {
   "cell_type": "code",
   "execution_count": null,
   "metadata": {},
   "outputs": [],
   "source": [
    "# Гиперпараметры.\n",
    "seq_size = 5\n",
    "learn_rate = 0.5\n",
    "\n",
    "train_x, train_y = [], []\n",
    "for i in range(len(train_data) - seq_size):\n",
    "    train_x.append(train_data[i:i+seq_size])\n",
    "    train_y.append(train_data[i+1:i+1+seq_size])\n",
    "\n",
    "test_x, test_y = [], []\n",
    "for i in range(len(test_data) - seq_size):\n",
    "    test_x.append(test_data[i:i+seq_size])\n",
    "    test_y.append(test_data[i+1:i+1+seq_size])"
   ]
  },
  {
   "cell_type": "code",
   "execution_count": null,
   "metadata": {},
   "outputs": [],
   "source": [
    "sess = tf.Session()\n",
    "net = lstm_cell(sess, 5, learn_rate)\n",
    "\n",
    "for e in range(20):\n",
    "    net.clear_state()\n",
    "    for x, y in zip(train_x, train_y):\n",
    "        loss = net.train([x], [y], repeat=10)"
   ]
  },
  {
   "cell_type": "code",
   "execution_count": null,
   "metadata": {},
   "outputs": [],
   "source": [
    "prev_seq = [train_x[-1]]\n",
    "#prev_seq = [test_x[0]]\n",
    "pred_seq = []\n",
    "\n",
    "for i in range(30):\n",
    "    next_seq = net.test(prev_seq)\n",
    "    prev_seq = next_seq\n",
    "    pred_seq.append(next_seq)"
   ]
  },
  {
   "cell_type": "code",
   "execution_count": null,
   "metadata": {},
   "outputs": [],
   "source": [
    "pred_curve = []\n",
    "for i in pred_seq:\n",
    "    pred_curve.append(i[0,-1])"
   ]
  },
  {
   "cell_type": "code",
   "execution_count": null,
   "metadata": {},
   "outputs": [],
   "source": [
    "matplotlib.pyplot.plot(np.arange(0, len(train_data), 1), train_data)\n",
    "matplotlib.pyplot.plot(np.arange(0, len(test_data), 1) + len(train_data), test_data)\n",
    "matplotlib.pyplot.plot(np.arange(len(train_data), len(train_data) + len(pred_curve), 1), pred_curve)"
   ]
  },
  {
   "cell_type": "code",
   "execution_count": null,
   "metadata": {},
   "outputs": [],
   "source": []
  }
 ],
 "metadata": {
  "kernelspec": {
   "display_name": "Python 3",
   "language": "python",
   "name": "python3"
  },
  "language_info": {
   "codemirror_mode": {
    "name": "ipython",
    "version": 3
   },
   "file_extension": ".py",
   "mimetype": "text/x-python",
   "name": "python",
   "nbconvert_exporter": "python",
   "pygments_lexer": "ipython3",
   "version": "3.7.6"
  }
 },
 "nbformat": 4,
 "nbformat_minor": 4
}
