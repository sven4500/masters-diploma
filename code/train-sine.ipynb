{
 "cells": [
  {
   "cell_type": "code",
   "execution_count": null,
   "metadata": {},
   "outputs": [],
   "source": [
    "import tensorflow as tf\n",
    "import time\n",
    "import matplotlib\n",
    "from matplotlib import pyplot\n",
    "%run lstm.ipynb"
   ]
  },
  {
   "cell_type": "code",
   "execution_count": null,
   "metadata": {},
   "outputs": [],
   "source": [
    "def split_data(data, ratio=0.8):\n",
    "    num_samples = int(len(data) * ratio)\n",
    "    return data[:num_samples], data[num_samples:]"
   ]
  },
  {
   "cell_type": "code",
   "execution_count": null,
   "metadata": {},
   "outputs": [],
   "source": [
    "def shift(seq, seq_size, step=1):\n",
    "    x, y = [], []\n",
    "    for i in np.arange(0, len(seq) - seq_size - step + 1, step):\n",
    "        xc = seq[i:i+seq_size]\n",
    "        yc = seq[i+step:i+seq_size+step]\n",
    "        x.append(xc)\n",
    "        y.append(yc)\n",
    "    return x, y"
   ]
  },
  {
   "cell_type": "code",
   "execution_count": null,
   "metadata": {},
   "outputs": [],
   "source": [
    "#seq = np.sin(np.linspace(0., 12. * np.pi, 200))\n",
    "seq = np.sin(np.linspace(0., 20. * np.pi, 200))\n",
    "#matplotlib.pyplot.plot(seq)"
   ]
  },
  {
   "cell_type": "code",
   "execution_count": null,
   "metadata": {},
   "outputs": [],
   "source": [
    "seq_train, seq_test = split_data(seq, 0.3)\n",
    "matplotlib.pyplot.plot(np.arange(0., len(seq_train), 1.), seq_train)\n",
    "matplotlib.pyplot.plot(np.arange(len(seq_train), len(seq_train) + len(seq_test), 1.), seq_test)\n",
    "#matplotlib.pyplot.plot(np.linspace(len(x_train), len(x_train) + len(x_test), len(x_test)), x_test)"
   ]
  },
  {
   "cell_type": "code",
   "execution_count": null,
   "metadata": {},
   "outputs": [],
   "source": [
    "mini_seq_size = 5\n",
    "x_train, y_train = shift(seq_train, mini_seq_size, step=1)"
   ]
  },
  {
   "cell_type": "code",
   "execution_count": null,
   "metadata": {},
   "outputs": [],
   "source": [
    "sess = tf.Session()\n",
    "net = lstm_cell(sess, mini_seq_size, 0.4, optimizer='adagrad')"
   ]
  },
  {
   "cell_type": "code",
   "execution_count": null,
   "metadata": {},
   "outputs": [],
   "source": [
    "num_epochs = 40\n",
    "num_repeat = 20\n",
    "\n",
    "start = time.time()\n",
    "for e in range(num_epochs):\n",
    "    net.clear_state()\n",
    "    for x, y in zip(x_train, y_train):\n",
    "        net.train([x], [y], repeat=num_repeat)\n",
    "end = time.time()\n",
    "print('время обучения:', end - start)"
   ]
  },
  {
   "cell_type": "code",
   "execution_count": null,
   "metadata": {},
   "outputs": [],
   "source": [
    "seq_prev = [y_train[-1]]\n",
    "#seq_prev = [x_train[-1]]\n",
    "seq_pred = []\n",
    "\n",
    "for i in range(len(seq_test)):\n",
    "#for i in range(300):\n",
    "    seq_prev = net.test(seq_prev)\n",
    "    seq_pred.append(seq_prev[0])"
   ]
  },
  {
   "cell_type": "code",
   "execution_count": null,
   "metadata": {},
   "outputs": [],
   "source": [
    "seq_points = []\n",
    "for i in seq_pred:\n",
    "    seq_points.append(i[-1])"
   ]
  },
  {
   "cell_type": "code",
   "execution_count": null,
   "metadata": {},
   "outputs": [],
   "source": [
    "mae_error = np.sum(np.abs(seq_points - seq_test))/len(seq_points)\n",
    "mse_error = np.sum((seq_points - seq_test)**2)/len(seq_points)"
   ]
  },
  {
   "cell_type": "code",
   "execution_count": null,
   "metadata": {},
   "outputs": [],
   "source": [
    "matplotlib.pyplot.plot(seq_test, 'orange')\n",
    "#matplotlib.pyplot.plot(seq_points)\n",
    "matplotlib.pyplot.plot(seq_points, '--')"
   ]
  },
  {
   "cell_type": "code",
   "execution_count": null,
   "metadata": {},
   "outputs": [],
   "source": [
    "# Отображаем статистику обучения.\n",
    "print('num_epochs', num_epochs)\n",
    "print('num_repeat', num_repeat)\n",
    "print('seq_len', mini_seq_size)\n",
    "print('MAE', mae_error)\n",
    "print('MSE', mse_error)"
   ]
  },
  {
   "cell_type": "code",
   "execution_count": null,
   "metadata": {},
   "outputs": [],
   "source": []
  }
 ],
 "metadata": {
  "kernelspec": {
   "display_name": "Python 3",
   "language": "python",
   "name": "python3"
  },
  "language_info": {
   "codemirror_mode": {
    "name": "ipython",
    "version": 3
   },
   "file_extension": ".py",
   "mimetype": "text/x-python",
   "name": "python",
   "nbconvert_exporter": "python",
   "pygments_lexer": "ipython3",
   "version": "3.7.6"
  }
 },
 "nbformat": 4,
 "nbformat_minor": 4
}
