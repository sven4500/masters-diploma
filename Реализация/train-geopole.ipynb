{
 "cells": [
  {
   "cell_type": "markdown",
   "metadata": {},
   "source": [
    "Данный файл реализует обучение сети на предсказание положения географического полюса земли."
   ]
  },
  {
   "cell_type": "code",
   "execution_count": null,
   "metadata": {
    "scrolled": false
   },
   "outputs": [],
   "source": [
    "import tensorflow as tf\n",
    "import numpy as np\n",
    "import matplotlib\n",
    "import time\n",
    "from matplotlib import pyplot\n",
    "%run lstm.ipynb"
   ]
  },
  {
   "cell_type": "markdown",
   "metadata": {},
   "source": [
    "## Гиперпараметры"
   ]
  },
  {
   "cell_type": "code",
   "execution_count": null,
   "metadata": {
    "scrolled": false
   },
   "outputs": [],
   "source": [
    "decimation = 30\n",
    "\n",
    "num_epochs = 15\n",
    "num_repeat = 1\n",
    "dependant_coords = False # <= за формирование входной последовательности отвечают две сети\n",
    "\n",
    "years = 7.5 # <= окно обучения 7.5 лет\n",
    "output_dim = int(years * 365 / decimation)\n",
    "input_dim = 2 * int(output_dim) if dependant_coords else int(output_dim)\n",
    "hidden_dim = int(input_dim * 0.1)\n",
    "\n",
    "learn_rate = 0.5\n",
    "optimizer = 'adagrad'\n",
    "do_normalize = True\n",
    "\n",
    "do_svd = True\n",
    "svd_iters = 10\n",
    "svd_start = 0.0\n",
    "svd_weaken = 0.15\n",
    "svd_strength = svd_start\n",
    "\n",
    "print('input', input_dim, 'hidden', hidden_dim, 'output', output_dim)"
   ]
  },
  {
   "cell_type": "markdown",
   "metadata": {},
   "source": [
    "## Чтение данных\n",
    "\n",
    "Пример чтения данных из таблицы в которой колонки разделены пробелами: https://stackoverflow.com/questions/43058462/reading-a-variable-white-space-delimited-table-in-python\n",
    "\n",
    "Как объединить два массива с чередованием: https://stackoverflow.com/questions/3678869/pythonic-way-to-combine-two-lists-in-an-alternating-fashion"
   ]
  },
  {
   "cell_type": "code",
   "execution_count": null,
   "metadata": {
    "scrolled": false
   },
   "outputs": [],
   "source": [
    "path = 'e:/geomagnetic.txt'\n",
    "data = np.genfromtxt(path)\n",
    "\n",
    "# Достаём из файла 3 и 5 столбец где содержатся данные x и y.\n",
    "# Децимируем данные в 8 раз иначе очень долгое врем яобучения.\n",
    "x = data[:,3][::decimation]\n",
    "y = data[:,5][::decimation]\n",
    "\n",
    "assert len(x) == len(y)\n",
    "print('Количество точек', len(x))\n",
    "\n",
    "if do_normalize == True:\n",
    "    m = max(np.amax(x), np.amax(y))\n",
    "    x /= m\n",
    "    y /= m\n",
    "    \n",
    "# Объединение с чередованием наборов точек x и y.\n",
    "z = np.zeros(len(x) + len(y))\n",
    "z[0::2] = x\n",
    "z[1::2] = y\n",
    "\n",
    "#matplotlib.pyplot.xlim(right=100)\n",
    "#matplotlib.pyplot.plot(x)\n",
    "#matplotlib.pyplot.plot(y)\n",
    "#matplotlib.pyplot.plot(z)"
   ]
  },
  {
   "cell_type": "markdown",
   "metadata": {},
   "source": [
    "## Подготовка данных для обучения"
   ]
  },
  {
   "cell_type": "code",
   "execution_count": null,
   "metadata": {
    "scrolled": false
   },
   "outputs": [],
   "source": [
    "def split(data, ratio):\n",
    "    samples = int(len(data) * ratio)\n",
    "    return data[:samples], data[samples:]"
   ]
  },
  {
   "cell_type": "code",
   "execution_count": null,
   "metadata": {
    "scrolled": false
   },
   "outputs": [],
   "source": [
    "def shift(data, dim):\n",
    "    seq = []\n",
    "    for i in range(len(data) - dim):\n",
    "        seq.append(data[i:i+dim])\n",
    "    return seq"
   ]
  },
  {
   "cell_type": "code",
   "execution_count": null,
   "metadata": {
    "scrolled": true
   },
   "outputs": [],
   "source": [
    "x_train, x_test = split(x, 0.8)\n",
    "y_train, y_test = split(y, 0.8)\n",
    "z_train, z_test = split(z, 0.8)\n",
    "\n",
    "#x_train_in = shift(z_train, input_dim)\n",
    "#y_train_in = shift(z_train, input_dim)\n",
    "x_train_in = shift(x_train[0:], input_dim)\n",
    "y_train_in = shift(y_train[0:], input_dim)\n",
    "\n",
    "x_train_out = shift(x_train[1:], output_dim)\n",
    "y_train_out = shift(y_train[1:], output_dim)\n",
    "\n",
    "#matplotlib.pyplot.xlim(right=80)\n",
    "#matplotlib.pyplot.plot(x_train)\n",
    "#matplotlib.pyplot.plot(y_train)\n",
    "#matplotlib.pyplot.plot(z_train)\n",
    "\n",
    "#matplotlib.pyplot.plot(x_train_in[0])\n",
    "#matplotlib.pyplot.plot(x_train_out[0])\n",
    "#matplotlib.pyplot.plot(y_train_in[0])\n",
    "#matplotlib.pyplot.plot(y_train_out[0])"
   ]
  },
  {
   "cell_type": "markdown",
   "metadata": {},
   "source": [
    "## Обучение"
   ]
  },
  {
   "cell_type": "code",
   "execution_count": null,
   "metadata": {
    "scrolled": false
   },
   "outputs": [],
   "source": [
    "def train(lstm, data_in, data_out, num_epochs, num_repeat):\n",
    "    time_begin = time.time()\n",
    "    for e in range(num_epochs):\n",
    "        lstm.clear_state()\n",
    "        for rec_in, rec_out in zip(data_in, data_out):\n",
    "            lstm.train([rec_in], [rec_out], num_repeat)\n",
    "    return time.time() - time_begin"
   ]
  },
  {
   "cell_type": "code",
   "execution_count": null,
   "metadata": {
    "scrolled": false
   },
   "outputs": [],
   "source": [
    "def test(lstm, start, length, take=-1):\n",
    "    \n",
    "    points = []\n",
    "    prev = [np.copy(start)]\n",
    "    \n",
    "    for i in range(length):\n",
    "        \n",
    "        prev = lstm.test(prev)\n",
    "        \n",
    "        points += [prev[-1][take]]\n",
    "        \n",
    "    return points"
   ]
  },
  {
   "cell_type": "code",
   "execution_count": null,
   "metadata": {},
   "outputs": [],
   "source": [
    "# Параметр take описывает индекс массива который получается на комбинированном выходе двух сетей.\n",
    "def test_dependant(x_lstm, y_lstm, start, length, take=-1):\n",
    "    \n",
    "    #assert len(start) == x_lstm.input_dim\n",
    "        \n",
    "    points = []\n",
    "    prev = [np.copy(start)]\n",
    "    \n",
    "    for i in range(length):\n",
    "        \n",
    "        x_prev = x_lstm.test(prev)\n",
    "        y_prev = y_lstm.test(prev)\n",
    "                \n",
    "        #assert len(x_prev[-1]) == x_lstm.output_dim\n",
    "                \n",
    "        # В силу особенностей форматы вводв/вывода сети, все данные помещаются в [].\n",
    "        prev[-1][0::2] = x_prev[-1]\n",
    "        prev[-1][1::2] = y_prev[-1]\n",
    "        \n",
    "        #assert len(prev[-1]) == x_lstm.input_dim\n",
    "        \n",
    "        points += [prev[-1][take]]\n",
    "        \n",
    "    return points"
   ]
  },
  {
   "cell_type": "code",
   "execution_count": null,
   "metadata": {
    "scrolled": false
   },
   "outputs": [],
   "source": [
    "def mae(x, y):\n",
    "    assert len(x) == len(y)\n",
    "    return np.sum(np.abs(x - y)) / len(x)"
   ]
  },
  {
   "cell_type": "code",
   "execution_count": null,
   "metadata": {
    "scrolled": false
   },
   "outputs": [],
   "source": [
    "def mse(x, y):\n",
    "    assert len(x) == len(y)\n",
    "    return np.sum(np.square(x - y)) / len(x)"
   ]
  },
  {
   "cell_type": "code",
   "execution_count": null,
   "metadata": {
    "scrolled": false
   },
   "outputs": [],
   "source": [
    "sess = tf.Session()\n",
    "net_x = lstm_cell(sess, input_dim, hidden_dim, output_dim, learn_rate, optimizer)\n",
    "net_y = lstm_cell(sess, input_dim, hidden_dim, output_dim, learn_rate, optimizer)"
   ]
  },
  {
   "cell_type": "code",
   "execution_count": null,
   "metadata": {
    "scrolled": false
   },
   "outputs": [],
   "source": [
    "x_time = []\n",
    "y_time = []\n",
    "x_mse = []\n",
    "y_mse = []\n",
    "x_mae = []\n",
    "y_mae = []\n",
    "x_svd = []\n",
    "y_svd = []"
   ]
  },
  {
   "cell_type": "code",
   "execution_count": null,
   "metadata": {
    "scrolled": false
   },
   "outputs": [],
   "source": [
    "assert len(x_test) == len(y_test)\n",
    "\n",
    "# При необходимости этот цикл можно повторить снова. Новая статистика будет добавлена в конец списка.\n",
    "for s in range(svd_iters if do_svd else 1):\n",
    "    \n",
    "    x_time += [train(net_x, x_train_in, x_train_out, num_epochs, num_repeat)]\n",
    "    y_time += [train(net_y, y_train_in, y_train_out, num_epochs, num_repeat)]\n",
    "    \n",
    "    net_x.save_all()\n",
    "    net_y.save_all()\n",
    "    \n",
    "    if dependant_coords:\n",
    "        x_predict = test_dependant(net_x, net_y, x_train_in[-1], len(x_test), -2)\n",
    "        y_predict = test_dependant(net_x, net_y, y_train_in[-1], len(y_test), -1)\n",
    "    else:\n",
    "        x_predict = test(net_x, x_train_in[-1], len(x_test))\n",
    "        y_predict = test(net_y, y_train_in[-1], len(y_test))\n",
    "    \n",
    "    net_x.restore_all()\n",
    "    net_y.restore_all()\n",
    "    \n",
    "    x_mse += [mse(x_predict, x_test)]\n",
    "    y_mse += [mse(y_predict, y_test)]\n",
    "    \n",
    "    x_mae += [mae(x_predict, x_test)]\n",
    "    y_mae += [mae(y_predict, y_test)]\n",
    "    \n",
    "    if do_svd == True and svd_strength < 1.:\n",
    "        \n",
    "        x_svd += [net_x.svd_compress(svd_strength, svd_strength)[0]]\n",
    "        y_svd += [net_y.svd_compress(svd_strength, svd_strength)[0]]\n",
    "        \n",
    "        svd_strength += svd_weaken\n",
    "    \n",
    "    print(s, end=' ')\n",
    "    \n",
    "net_x.restore_all()\n",
    "net_y.restore_all()"
   ]
  },
  {
   "cell_type": "markdown",
   "metadata": {},
   "source": [
    "## Статистика"
   ]
  },
  {
   "cell_type": "code",
   "execution_count": null,
   "metadata": {
    "scrolled": false
   },
   "outputs": [],
   "source": [
    "fig, ax = matplotlib.pyplot.subplots(2, 3, figsize=(10, 5))\n",
    "\n",
    "ax[0,0].set_title('Обучение, сек.')\n",
    "ax[0,0].plot(x_time)\n",
    "ax[0,0].plot(y_time)\n",
    "\n",
    "ax[0,1].set_title('Норма SVD')\n",
    "ax[0,1].plot(x_svd)\n",
    "ax[0,1].plot(y_svd)\n",
    "\n",
    "ax[1,0].set_title('MAE')\n",
    "ax[1,0].plot(x_mae)\n",
    "ax[1,0].plot(y_mae)\n",
    "\n",
    "ax[1,1].set_title('MSE')\n",
    "ax[1,1].plot(x_mse)\n",
    "ax[1,1].plot(y_mse)\n",
    "\n",
    "ax[0,2].set_title('Предсказание X')\n",
    "ax[0,2].plot(x_test)\n",
    "ax[0,2].plot(x_predict, '--')\n",
    "\n",
    "ax[1,2].set_title('Предсказание Y')\n",
    "ax[1,2].plot(y_test)\n",
    "ax[1,2].plot(y_predict, '--')\n",
    "\n",
    "# Отображаем статистику обучения.\n",
    "print('optimizer', optimizer, 'learn_rate', learn_rate)\n",
    "print('input_dim', input_dim, 'hidden_dim', hidden_dim, 'output_dim', output_dim)\n",
    "print('num_epochs', num_epochs, 'num_repeat', num_repeat)\n",
    "print('years', years, 'dependant_coords', dependant_coords, 'do_normalize', do_normalize)\n",
    "if do_svd:\n",
    "    print('svd_start', svd_start, 'svd_end', svd_strength, 'svd_weaken', svd_weaken)\n",
    "print('x_time', np.sum(x_time), 'y_time', np.sum(y_time))\n",
    "print('x_mae', x_mae[-1], 'y_mae', y_mae[-1])\n",
    "print('x_mse', x_mse[-1], 'y_mse', y_mse[-1])"
   ]
  },
  {
   "cell_type": "code",
   "execution_count": null,
   "metadata": {
    "scrolled": false
   },
   "outputs": [],
   "source": [
    "matplotlib.pyplot.plot(x_test, y_test)\n",
    "matplotlib.pyplot.plot(x_predict, y_predict, '--')"
   ]
  },
  {
   "cell_type": "code",
   "execution_count": null,
   "metadata": {},
   "outputs": [],
   "source": []
  }
 ],
 "metadata": {
  "kernelspec": {
   "display_name": "Python 3",
   "language": "python",
   "name": "python3"
  },
  "language_info": {
   "codemirror_mode": {
    "name": "ipython",
    "version": 3
   },
   "file_extension": ".py",
   "mimetype": "text/x-python",
   "name": "python",
   "nbconvert_exporter": "python",
   "pygments_lexer": "ipython3",
   "version": "3.7.6"
  }
 },
 "nbformat": 4,
 "nbformat_minor": 4
}
