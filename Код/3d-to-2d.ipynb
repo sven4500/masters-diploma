{
 "cells": [
  {
   "cell_type": "code",
   "execution_count": null,
   "metadata": {},
   "outputs": [],
   "source": [
    "import numpy as np\n",
    "import matplotlib\n",
    "from matplotlib import pyplot"
   ]
  },
  {
   "cell_type": "code",
   "execution_count": null,
   "metadata": {},
   "outputs": [],
   "source": [
    "n = 30\n",
    "#x = np.asfarray([8, 4, 7, 3, 8, 9, 3, 1, 3, 8, 7, 6, 3, 7, 4, 7, 1, 3, 6, 1])\n",
    "#y = np.asfarray([9, 9, 4, 3, 7, 2, 5, 3, 6, 9, 7, 1, 3, 8, 6, 4, 7, 2, 4, 5])\n",
    "x = np.random.normal(size=n)\n",
    "y = np.random.normal(size=n)\n",
    "z = (x**2 + y**2)**0.5\n",
    "#z = x + y"
   ]
  },
  {
   "cell_type": "code",
   "execution_count": null,
   "metadata": {},
   "outputs": [],
   "source": [
    "matplotlib.pyplot.plot(x, y, 'o', mfc='none')\n",
    "#matplotlib.pyplot.scatter(x, y, facecolor='none', edgecolor='blue')\n",
    "#matplotlib.pyplot.axis('on')"
   ]
  },
  {
   "cell_type": "code",
   "execution_count": null,
   "metadata": {},
   "outputs": [],
   "source": [
    "# https://stackoverflow.com/questions/23546552/1d-plot-matplotlib\n",
    "matplotlib.pyplot.hlines(0, 0, np.amax(z) + np.amin(z), linewidth=1)\n",
    "matplotlib.pyplot.plot(z, np.zeros(len(z)), 'o', mfc='none')"
   ]
  },
  {
   "cell_type": "code",
   "execution_count": null,
   "metadata": {},
   "outputs": [],
   "source": []
  }
 ],
 "metadata": {
  "kernelspec": {
   "display_name": "Python 3",
   "language": "python",
   "name": "python3"
  },
  "language_info": {
   "codemirror_mode": {
    "name": "ipython",
    "version": 3
   },
   "file_extension": ".py",
   "mimetype": "text/x-python",
   "name": "python",
   "nbconvert_exporter": "python",
   "pygments_lexer": "ipython3",
   "version": "3.7.6"
  }
 },
 "nbformat": 4,
 "nbformat_minor": 4
}
